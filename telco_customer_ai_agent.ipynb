{
  "nbformat": 4,
  "nbformat_minor": 0,
  "metadata": {
    "colab": {
      "provenance": [],
      "authorship_tag": "ABX9TyPt8XDOk09/7rvVRSsOPAKE",
      "include_colab_link": true
    },
    "kernelspec": {
      "name": "python3",
      "display_name": "Python 3"
    },
    "language_info": {
      "name": "python"
    }
  },
  "cells": [
    {
      "cell_type": "markdown",
      "metadata": {
        "id": "view-in-github",
        "colab_type": "text"
      },
      "source": [
        "<a href=\"https://colab.research.google.com/github/Tejaswi4563/AI-Agent/blob/main/telco_customer_ai_agent.ipynb\" target=\"_parent\"><img src=\"https://colab.research.google.com/assets/colab-badge.svg\" alt=\"Open In Colab\"/></a>"
      ]
    },
    {
      "cell_type": "code",
      "source": [
        "d = pickle.load(open('/content/model.pxl','rb'))"
      ],
      "metadata": {
        "id": "9mgn72bc5AoH"
      },
      "execution_count": null,
      "outputs": []
    },
    {
      "cell_type": "code",
      "source": [
        "import pickle\n",
        "import pandas as pd\n",
        "with open(\"model.pxl\", \"rb\") as file:\n",
        "    model = pickle.load(file)\n",
        "features = [\n",
        "    'SeniorCitizen',\n",
        "    'Partner',\n",
        "    'tenure',\n",
        "    'OnlineSecurity',\n",
        "    'OnlineBackup',\n",
        "    'DeviceProtection',\n",
        "    'TechSupport',\n",
        "    'Contract',\n",
        "    'PaperlessBilling',\n",
        "    'PaymentMethod',\n",
        "    'MonthlyCharges'\n",
        "]\n",
        "def get_user_input():\n",
        "    print(\"Please enter the following values for churn prediction:\")\n",
        "    input_data = {}\n",
        "    for feature in features:\n",
        "        while True:\n",
        "            try:\n",
        "                val = input(f\"{feature}: \")\n",
        "                if feature == 'MonthlyCharges':\n",
        "                    input_data[feature] = float(val)\n",
        "                else:\n",
        "                    input_data[feature] = int(val)\n",
        "                break\n",
        "            except ValueError:\n",
        "                print(\"Invalid input. Please enter a numeric value.\")\n",
        "    return input_data\n",
        "def predict_churn(input_dict):\n",
        "    df = pd.DataFrame([input_dict])\n",
        "    prediction = model.predict(df)[0]\n",
        "    return prediction\n",
        "user_input = get_user_input()\n",
        "result = predict_churn(user_input)\n",
        "print(\"\\nChurn Prediction:\", \"Yes (Customer is likely to churn)\" if result == 1 else \"No (Customer is likely to stay)\")\n"
      ],
      "metadata": {
        "colab": {
          "base_uri": "https://localhost:8080/"
        },
        "id": "_YdaBW-85n9E",
        "outputId": "85aeb3dc-99c9-447c-ea30-c35d4d806059"
      },
      "execution_count": null,
      "outputs": [
        {
          "output_type": "stream",
          "name": "stdout",
          "text": [
            "Please enter the following values for churn prediction:\n",
            "SeniorCitizen: 0\n",
            "Partner: 1\n",
            "tenure: 1\n",
            "OnlineSecurity: 1\n",
            "OnlineBackup: 1\n",
            "DeviceProtection: 1\n",
            "TechSupport: 1\n",
            "Contract: 1\n",
            "PaperlessBilling: 1\n",
            "PaymentMethod: 1\n",
            "MonthlyCharges: 1\n",
            "\n",
            "Churn Prediction: No (Customer is likely to stay)\n"
          ]
        }
      ]
    },
    {
      "cell_type": "code",
      "source": [],
      "metadata": {
        "id": "Mi-9KtvUEo-H"
      },
      "execution_count": null,
      "outputs": []
    }
  ]
}