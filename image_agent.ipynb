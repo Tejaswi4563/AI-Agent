{
  "nbformat": 4,
  "nbformat_minor": 0,
  "metadata": {
    "colab": {
      "provenance": [],
      "authorship_tag": "ABX9TyOY9Nivv+Q6LddsQht+W2e4",
      "include_colab_link": true
    },
    "kernelspec": {
      "name": "python3",
      "display_name": "Python 3"
    },
    "language_info": {
      "name": "python"
    }
  },
  "cells": [
    {
      "cell_type": "markdown",
      "metadata": {
        "id": "view-in-github",
        "colab_type": "text"
      },
      "source": [
        "<a href=\"https://colab.research.google.com/github/Tejaswi4563/AI-Agent/blob/main/image_agent.ipynb\" target=\"_parent\"><img src=\"https://colab.research.google.com/assets/colab-badge.svg\" alt=\"Open In Colab\"/></a>"
      ]
    },
    {
      "cell_type": "code",
      "execution_count": null,
      "metadata": {
        "id": "1RYiMKSsREYx",
        "colab": {
          "base_uri": "https://localhost:8080/"
        },
        "outputId": "ef69187e-6b41-404e-c559-43e7463545a9"
      },
      "outputs": [
        {
          "output_type": "stream",
          "name": "stderr",
          "text": [
            "WARNING:absl:Compiled the loaded model, but the compiled metrics have yet to be built. `model.compile_metrics` will be empty until you train or evaluate the model.\n"
          ]
        }
      ],
      "source": [
        "from keras.models import load_model\n",
        "model = load_model('/content/butter fly-rabbit-classifier.h5')"
      ]
    },
    {
      "cell_type": "code",
      "source": [
        "from keras.preprocessing import image"
      ],
      "metadata": {
        "id": "NOk4EcLZZrAK"
      },
      "execution_count": null,
      "outputs": []
    },
    {
      "cell_type": "code",
      "source": [
        "img = image.load_img('/content/rk1.jpg',\n",
        "                     target_size = (64,64))"
      ],
      "metadata": {
        "id": "stjzl1hraW5y"
      },
      "execution_count": null,
      "outputs": []
    },
    {
      "cell_type": "code",
      "source": [
        "from tensorflow.keras.preprocessing.image import ImageDataGenerator\n",
        "ig = ImageDataGenerator(rescale=1./225)"
      ],
      "metadata": {
        "id": "McabHKZwahs4"
      },
      "execution_count": null,
      "outputs": []
    },
    {
      "cell_type": "code",
      "source": [
        "from keras.preprocessing.image import img_to_array\n",
        "import numpy as np"
      ],
      "metadata": {
        "id": "0RBDedESa6m5"
      },
      "execution_count": null,
      "outputs": []
    },
    {
      "cell_type": "code",
      "source": [
        "img_array = img_to_array(img)\n",
        "img_array = np.expand_dims(img_array, axis = 0)\n",
        "newing = ig.flow(img_array)"
      ],
      "metadata": {
        "id": "qLyHWaijb80J"
      },
      "execution_count": null,
      "outputs": []
    },
    {
      "cell_type": "code",
      "source": [
        "pred = model.predict(normalized_img_array)\n",
        "print(\"rabbit\" if pred[0][0]>0.5 else \"butter fly\")"
      ],
      "metadata": {
        "colab": {
          "base_uri": "https://localhost:8080/"
        },
        "id": "4-mS_rSwcQnJ",
        "outputId": "9e880da5-a04c-4c67-b0c2-3d9287a490ea"
      },
      "execution_count": null,
      "outputs": [
        {
          "output_type": "stream",
          "name": "stdout",
          "text": [
            "\u001b[1m1/1\u001b[0m \u001b[32m━━━━━━━━━━━━━━━━━━━━\u001b[0m\u001b[37m\u001b[0m \u001b[1m0s\u001b[0m 34ms/step\n",
            "butter fly\n"
          ]
        }
      ]
    },
    {
      "cell_type": "code",
      "source": [],
      "metadata": {
        "id": "J9Qo1gNlcjn_"
      },
      "execution_count": null,
      "outputs": []
    }
  ]
}